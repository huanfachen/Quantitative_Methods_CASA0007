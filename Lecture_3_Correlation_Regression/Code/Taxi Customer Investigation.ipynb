{
 "cells": [
  {
   "cell_type": "markdown",
   "metadata": {},
   "source": [
    "# Taxi Company Investigation"
   ]
  },
  {
   "cell_type": "markdown",
   "metadata": {},
   "source": [
    "In this Jupyter notebook, we investigate some synthetic data to understand the value of probability distributions and how they can be used to make predictions about the possible values of future data points. However, we also see why care needs to be taken to ensure that data is being looked at in the right way.\n",
    "\n",
    "This notebook uses lots of Python code that you will not be familiar with, but you don't need to understand exactly how the code works. Just read through the data story, run the cells, look at the outputs and consider what you are learning about the data as you go."
   ]
  },
  {
   "cell_type": "code",
   "execution_count": null,
   "metadata": {},
   "outputs": [],
   "source": [
    "%matplotlib inline\n",
    "\n",
    "import pandas as pd\n",
    "import numpy as np\n",
    "import scipy.stats as sps\n",
    "import matplotlib.pyplot as plt"
   ]
  },
  {
   "cell_type": "code",
   "execution_count": null,
   "metadata": {},
   "outputs": [],
   "source": [
    "data = pd.read_csv('feb_taxi_calls.csv')"
   ]
  },
  {
   "cell_type": "markdown",
   "metadata": {},
   "source": [
    "The data contains information about the number of calls to a taxi company for twenty minute intervals for every week day in February. The time is measured in minutes past midnight.\n",
    "\n",
    "We are going to assume it takes just 20 minutes to attend to a call (pretty impressive service) and that each call is attended to within the corresponding time interval. Clearly an oversimplification, but could be developed into a more realistic model."
   ]
  },
  {
   "cell_type": "code",
   "execution_count": null,
   "metadata": {},
   "outputs": [],
   "source": [
    "data[0:10]"
   ]
  },
  {
   "cell_type": "markdown",
   "metadata": {},
   "source": [
    "Here are some summary statistics:"
   ]
  },
  {
   "cell_type": "code",
   "execution_count": null,
   "metadata": {
    "scrolled": false
   },
   "outputs": [],
   "source": [
    "print(\"Number of data points =\", len(data))\n",
    "print(\"Mean     =\", data['calls'].mean())\n",
    "print(\"St. Dev. =\", data['calls'].std())"
   ]
  },
  {
   "cell_type": "markdown",
   "metadata": {},
   "source": [
    "Since the data relates to the number of events occurring in an interval, we would expect it to be Poisson distributed. The Poisson distribution has one parameter (the mean rate of events per interval), which we estimate with the mean of the sample:"
   ]
  },
  {
   "cell_type": "code",
   "execution_count": null,
   "metadata": {},
   "outputs": [],
   "source": [
    "mu = data['calls'].mean()"
   ]
  },
  {
   "cell_type": "markdown",
   "metadata": {},
   "source": [
    "Say that we want to ensure that we have enough cars to cover all the calls at least 99% of the time.\n",
    "\n",
    "By calculating confidence intervals of the Poisson distribution, we can find out how many cars we need:"
   ]
  },
  {
   "cell_type": "code",
   "execution_count": null,
   "metadata": {
    "scrolled": true
   },
   "outputs": [],
   "source": [
    "pc99 = sps.poisson.ppf(0.99,mu)\n",
    "pc98int = sps.poisson.interval(0.98,mu)\n",
    "pc98list = list(range(int(pc98int[0]),int(pc98int[1]+1)))\n",
    "\n",
    "print(\"At least 99% of time intervals will have\", int(pc99), \"calls or fewer.\")\n",
    "print(\"Alternatively, at least 98% of time intervals will have a number of calls in the interval\", str(pc98list) + \".\")"
   ]
  },
  {
   "cell_type": "code",
   "execution_count": null,
   "metadata": {},
   "outputs": [],
   "source": [
    "print(\"Based on our assumptions,\", int(pc99), \"cars should be enough in at least 99% of cases.\")"
   ]
  },
  {
   "cell_type": "markdown",
   "metadata": {},
   "source": [
    "## Are there any reasons to doubt this conclusion?\n",
    "\n",
    "If this conclusion is right, there should only be about 14 time intervals (or fewer) with greater than 6 calls (1% of 1440)."
   ]
  },
  {
   "cell_type": "code",
   "execution_count": null,
   "metadata": {},
   "outputs": [],
   "source": [
    "busy_intervals = data[data['calls'] > 6]\n",
    "busy_intervals"
   ]
  },
  {
   "cell_type": "code",
   "execution_count": null,
   "metadata": {},
   "outputs": [],
   "source": [
    "print(\"There are\", len(busy_intervals), \"intervals with more than 6 calls.\")"
   ]
  },
  {
   "cell_type": "markdown",
   "metadata": {},
   "source": [
    "Something seems to have gone wrong. Perhaps the data is not Poisson distributed.\n",
    "\n",
    "We failed to visualise the data. Let's do that now:"
   ]
  },
  {
   "cell_type": "code",
   "execution_count": null,
   "metadata": {},
   "outputs": [],
   "source": [
    "n,bins,patches = plt.hist(data['calls'], 20, range=(0,20))"
   ]
  },
  {
   "cell_type": "markdown",
   "metadata": {},
   "source": [
    "This certainly looks like a Poisson distribution (see https://www.umass.edu/wsp/images/poisson3.gif).\n",
    "\n",
    "Let's plot the individual call numbers for each interval, to see if there is some hidden pattern that could be interfering with the results:"
   ]
  },
  {
   "cell_type": "code",
   "execution_count": null,
   "metadata": {},
   "outputs": [],
   "source": [
    "plt.plot(data['calls'],'.')"
   ]
  },
  {
   "cell_type": "markdown",
   "metadata": {},
   "source": [
    "There is no visible pattern.\n",
    "\n",
    "These graphs do not show anything suspicious to explain the higher than expected number of time intervals with high call volumes (>6 calls).\n",
    "\n",
    "...\n",
    "\n",
    "But if we think about what the data actually represents, the problem should be obvious.\n",
    "\n",
    "Let's group the data by the time of day, and plot the average number of calls for each time:"
   ]
  },
  {
   "cell_type": "code",
   "execution_count": null,
   "metadata": {},
   "outputs": [],
   "source": [
    "grouped = data.groupby('time')\n",
    "mean_by_time = grouped.agg('mean')\n",
    "plt.plot(mean_by_time)"
   ]
  },
  {
   "cell_type": "markdown",
   "metadata": {},
   "source": [
    "Clearly, as we should have realised, the number of calls varies significantly by time of day. We need a different Poisson distribution for each time of day.\n",
    "\n",
    "Let's calculate new expected maximum call numbers for each time of day:"
   ]
  },
  {
   "cell_type": "code",
   "execution_count": null,
   "metadata": {},
   "outputs": [],
   "source": [
    "max_exp_customers = sps.poisson.ppf(0.99,mean_by_time['calls'])\n",
    "max_exp_customers = np.ravel(max_exp_customers) # This line just turns the array into a row, rather than a column.\n",
    "mean_by_time['99th Percentile'] = max_exp_customers"
   ]
  },
  {
   "cell_type": "code",
   "execution_count": null,
   "metadata": {},
   "outputs": [],
   "source": [
    "time_1 = [120, \"02:00\"]\n",
    "time_2 = [1140,\"19:00\"]\n",
    "\n",
    "mean_1 = mean_by_time['calls'][time_1[0]]\n",
    "mean_2 = mean_by_time['calls'][time_2[0]]\n",
    "\n",
    "max_1  = int(mean_by_time['99th Percentile'][time_1[0]])\n",
    "max_2  = int(mean_by_time['99th Percentile'][time_2[0]])\n",
    "\n",
    "print(\"For example, at\", time_1[1], \"the mean number of calls is\", mean_1, \"and 99% of days will have\", max_1, \"calls or fewer at this time.\")\n",
    "print(\"In contrast, at\", time_2[1], \"the mean number of calls is\", mean_2, \"and 99% of days will have\", max_2, \"calls or fewer at this time.\")\n"
   ]
  },
  {
   "cell_type": "markdown",
   "metadata": {},
   "source": [
    "A sensible conclusion might be that there should be more cars available at different times of day, as we might expect."
   ]
  },
  {
   "cell_type": "code",
   "execution_count": null,
   "metadata": {
    "collapsed": true
   },
   "outputs": [],
   "source": []
  }
 ],
 "metadata": {
  "kernelspec": {
   "display_name": "Python 3",
   "language": "python",
   "name": "python3"
  },
  "language_info": {
   "codemirror_mode": {
    "name": "ipython",
    "version": 3
   },
   "file_extension": ".py",
   "mimetype": "text/x-python",
   "name": "python",
   "nbconvert_exporter": "python",
   "pygments_lexer": "ipython3",
   "version": "3.7.1"
  },
  "toc": {
   "base_numbering": 1,
   "nav_menu": {},
   "number_sections": true,
   "sideBar": true,
   "skip_h1_title": false,
   "title_cell": "Table of Contents",
   "title_sidebar": "Contents",
   "toc_cell": false,
   "toc_position": {},
   "toc_section_display": true,
   "toc_window_display": false
  }
 },
 "nbformat": 4,
 "nbformat_minor": 1
}
